{
 "cells": [
  {
   "cell_type": "code",
   "execution_count": null,
   "id": "76be0fda-99ae-414d-aff6-df60f36a5270",
   "metadata": {},
   "outputs": [],
   "source": [
    "contains(pwd(), \"notebook\") ? cd(\"..\") : nothing\n",
    "using Pkg\n",
    "Pkg.activate(\".\")\n",
    "include(\"src/utils/utils.jl\");"
   ]
  },
  {
   "cell_type": "code",
   "execution_count": null,
   "id": "781c8205-9e4a-4aba-899d-b25d952e9533",
   "metadata": {},
   "outputs": [],
   "source": [
    "exact_data_loc = \"data\";\n",
    "trajectory_data_loc = \"data\";\n",
    "vectorized_data_loc = \"data\";\n",
    "plot_only_loc = \"plot_data\""
   ]
  },
  {
   "cell_type": "code",
   "execution_count": null,
   "id": "f1f4d242-2c9d-4bce-8308-230a6276d8bd",
   "metadata": {
    "tags": []
   },
   "outputs": [],
   "source": [
    "pi_lab(nlvl) = hcat([latexstring(@sprintf(\"P_{\\\\varepsilon_%d}\", i)) for i in 0:nlvl-1]...);"
   ]
  },
  {
   "cell_type": "markdown",
   "id": "ce339c3e-e973-46bf-940b-9caa18a7890d",
   "metadata": {},
   "source": [
    "## Trajectory\n",
    "\n",
    "This section load and plot the trajectory data."
   ]
  },
  {
   "cell_type": "code",
   "execution_count": null,
   "id": "1e1b0aa1-7cb7-4b04-93c6-05ff9038ad3e",
   "metadata": {},
   "outputs": [],
   "source": [
    "nqbit= 8;\n",
    "lind = \"Z\";\n",
    "# default keyword argument values\n",
    "# adap=\"unrestricted\"\n",
    "# rcut=1e-4\n",
    "# pool=\"neighbor\""
   ]
  },
  {
   "cell_type": "code",
   "execution_count": null,
   "id": "9baf9f04-99fd-4848-9664-2c6fd2cf37d5",
   "metadata": {},
   "outputs": [],
   "source": [
    "# store the plotting data to a different location\n",
    "transfer_exact_plot(plot_only_loc, exact_data_loc, nqbit, lind)\n",
    "transfer_traj_plot(plot_only_loc, trajectory_data_loc, nqbit, lind)"
   ]
  },
  {
   "cell_type": "code",
   "execution_count": null,
   "id": "9d7dd172-9fa3-4591-954e-5f3e160237b5",
   "metadata": {},
   "outputs": [],
   "source": [
    "te, exc_H, exc_pop = load_exact_plot(exact_data_loc, nqbit, lind);\n",
    "ta, avg_H, avg_pop, std_H, std_pop = load_traj_plot(trajectory_data_loc, nqbit, lind, rcut=1e-4);"
   ]
  },
  {
   "cell_type": "code",
   "execution_count": null,
   "id": "ffcc05b5-1930-44c5-a702-73efd14fc48a",
   "metadata": {},
   "outputs": [],
   "source": [
    "p2 = scatter(te[1:50:end], exc_H[1:50:end], label=L\"\\mathrm{Exact}\", xlabel=L\"t\", ylabel=L\"\\langle H(t) \\rangle\", \n",
    "    xguidefontsize=20, yguidefontsize=20, legendfontsize = 20,  tickfont = font(24, \"Computer Modern\"), \n",
    "    legendposition=:right, markersize=7,\n",
    "    # change the plot notation based on dephasing or amplitude damping Lindblad operators\n",
    "    annotations = (0, -3.5, Plots.text(L\"L^\\pm_i=\\frac{X_i\\pm iY_i}{2}\", 22, :left)), right_margin=2.6Plots.mm)\n",
    "    #annotations = (0, -4, Plots.text(L\"L_i=Z_i\", 22, :left)), right_margin=2.6Plots.mm)\n",
    "plot!(ta, avg_H, linewidth=2, ribbon=2*std_H, label=L\"\\mathrm{AVQD}\")"
   ]
  },
  {
   "cell_type": "code",
   "execution_count": null,
   "id": "c42bc458-67bf-413f-8d99-f45b05bc2b4f",
   "metadata": {},
   "outputs": [],
   "source": [
    "lvl = 2^nqbit >= 8 ? 8 : 2^nqbit\n",
    "exc_pop = exc_pop[:, 1:lvl]\n",
    "avg_pop = avg_pop[:, 1:lvl];\n",
    "std_pop = std_pop[:, 1:lvl];\n",
    "color_panel = [1:lvl] |> to_mul_arr;\n",
    "elabel = pi_lab(lvl);\n",
    "p3 = scatter(te[1:50:end], exc_pop[1:50:end,:],color=color_panel,label=\"\", xlabel =L\"t\", ylabel=L\"P_{\\varepsilon_i}(t)\",\n",
    "    xguidefontsize=20, yguidefontsize=20, legendfontsize = 13, right_margin=2.6Plots.mm,\n",
    "    tickfont = font(24, \"Computer Modern\"), legendposition=:bottomleft, markersize=6)\n",
    "plot!(p3, ta, avg_pop, ribbon=2*std_pop,linewidth=2,color=color_panel, label=elabel)\n",
    "plot!(p3, [], [], color = :black, label=L\"\\mathrm{AVQD}\")\n",
    "scatter!(p3, [], [], color = :black, label=L\"\\mathrm{Exact}\")"
   ]
  },
  {
   "cell_type": "code",
   "execution_count": null,
   "id": "aed90007-a96d-481e-9236-7ae27286d2d1",
   "metadata": {},
   "outputs": [],
   "source": [
    "prob = \"ASC\"\n",
    "restricted = \"unrestricted\"\n",
    "pool = \"neighbor\"\n",
    "gamma = 1e-3\n",
    "rcut = 1e-4\n",
    "group_name_h = @sprintf \"%d_qubit_lind_%s_rcut_%.2e_%s_H\" nqbit lind rcut restricted\n",
    "group_name_p = @sprintf \"%d_qubit_lind_%s_rcut_%.2e_%s_Pop\" nqbit lind rcut restricted"
   ]
  },
  {
   "cell_type": "code",
   "execution_count": null,
   "id": "f3e07897-bab0-42d5-883f-00e3efbe8c7f",
   "metadata": {},
   "outputs": [],
   "source": [
    "file_type = \".pdf\"\n",
    "savefig(p2, \"./figs/open/\" * pool * \"/\" * prob * \"_\" * group_name_h * file_type)\n",
    "savefig(p3, \"./figs/open/\" * pool * \"/\" * prob * \"_\" * group_name_p * file_type)"
   ]
  },
  {
   "cell_type": "markdown",
   "id": "42412ec0-8b8c-4011-a7fe-789315f625dc",
   "metadata": {},
   "source": [
    "## Vectorization\n",
    "\n",
    "This section load and plot vectorized data."
   ]
  },
  {
   "cell_type": "code",
   "execution_count": null,
   "id": "4fa2de1b-2e81-477f-b68a-d35ad13520ca",
   "metadata": {},
   "outputs": [],
   "source": [
    "nqbit= 4;\n",
    "lind = \"PM\";\n",
    "rcut = 1e-7;"
   ]
  },
  {
   "cell_type": "code",
   "execution_count": null,
   "id": "d6433a4a-4904-4414-ab6c-cf923513d732",
   "metadata": {},
   "outputs": [],
   "source": [
    "te, exc_H, exc_pop = load_exact_plot(exact_data_loc, nqbit, lind);\n",
    "ta, vec_H, vec_pop = load_vectorized_plot(vectorized_data_loc, nqbit, lind, rcut=rcut);"
   ]
  },
  {
   "cell_type": "code",
   "execution_count": null,
   "id": "bb87f325-685e-4dc8-8af6-a79b53b508e5",
   "metadata": {},
   "outputs": [],
   "source": [
    "transfer_vectorized_plot(plot_only_loc, vectorized_data_loc, nqbit, lind, rcut=1e-7)"
   ]
  },
  {
   "cell_type": "code",
   "execution_count": null,
   "id": "01438df5-9365-4dd6-8da5-d64e5ecff08a",
   "metadata": {},
   "outputs": [],
   "source": [
    "p2 = scatter(te[1:50:end], exc_H[1:50:end], linewidth=3, linestyle=:dash, label=L\"\\mathrm{Exact}\", markersize=7,\n",
    "    xguidefontsize=20, yguidefontsize=20, legendfontsize = 20,  tickfont = font(24, \"Computer Modern\"), legendposition=:right,\n",
    "    # change the plot notation based on dephasing or amplitude damping Lindblad operators\n",
    "    annotations = (0, -1.7, Plots.text(L\"L^\\pm_i=\\frac{X_i\\pm iY_i}{2}\", 22, :left)), right_margin=2.6Plots.mm)\n",
    "    #annotations = (0, -2.1, Plots.text(L\"L_i=Z_i\", 22, :left)), right_margin=2.6Plots.mm)\n",
    "plot!(p2, ta, vec_H, linewidth=3, label=L\"\\mathrm{AVQD}\", xlabel=L\"t\", ylabel=L\"\\langle H(t) \\rangle\")"
   ]
  },
  {
   "cell_type": "code",
   "execution_count": null,
   "id": "4c8bcda1-3e8e-4f80-95ad-7f386736256c",
   "metadata": {},
   "outputs": [],
   "source": [
    "lvl = 2^nqbit > 8 ? 8 : 2^nqbit \n",
    "exc_pop = exc_pop[:, 1:lvl]\n",
    "vec_pop = vec_pop[:, 1:lvl];\n",
    "color_panel = [1:lvl] |> to_mul_arr;\n",
    "elabel = pi_lab(lvl);\n",
    "p3 = scatter(te[1:50:end], exc_pop[1:50:end, :],color=color_panel,label=\"\", markersize=7,\n",
    "    ylabel=L\"P_{\\varepsilon_i}(t)\", xguidefontsize=20, yguidefontsize=20, legendfontsize = 13, \n",
    "    tickfont = font(24, \"Computer Modern\"), legendposition=:left, right_margin=2.6Plots.mm)\n",
    "plot!(ta, vec_pop,linewidth=3,color=color_panel,xlabel =L\"t\", label=elabel)\n",
    "plot!(p3, [], [], color = :black, label=L\"\\mathrm{AVQD}\")\n",
    "scatter!(p3, [], [], color = :black, label=L\"\\mathrm{Exact}\")"
   ]
  },
  {
   "cell_type": "code",
   "execution_count": null,
   "id": "fae413b6-090e-4ee9-91f9-5acfd3d87c28",
   "metadata": {},
   "outputs": [],
   "source": [
    "prob = \"ASC\"\n",
    "restricted = \"unrestricted\"\n",
    "pool = \"all2\"\n",
    "group_name_h = @sprintf \"%d_qubit_vectorization_lind_%s_rcut_%.2e_%s_H\" nqbit lind rcut restricted\n",
    "group_name_p = @sprintf \"%d_qubit_vectorization_lind_%s_rcut_%.2e_%s_Pop\" nqbit lind rcut restricted"
   ]
  },
  {
   "cell_type": "code",
   "execution_count": null,
   "id": "341193b1-36ab-42f6-a751-8f36e02fc853",
   "metadata": {},
   "outputs": [],
   "source": [
    "file_type = \".pdf\"\n",
    "savefig(p2, \"./figs/open/\" * pool * \"/\" * prob * \"_\" * group_name_h * file_type)\n",
    "savefig(p3, \"./figs/open/\" * pool * \"/\" * prob * \"_\" * group_name_p * file_type)"
   ]
  },
  {
   "cell_type": "markdown",
   "id": "c49e9a01-95e3-46ff-8dd1-87846fc8cacd",
   "metadata": {},
   "source": [
    "### Vectorization approach: different error tolerance"
   ]
  },
  {
   "cell_type": "code",
   "execution_count": null,
   "id": "68861700-8964-4c95-b6e0-4fec63deeabe",
   "metadata": {},
   "outputs": [],
   "source": [
    "nqbit= 4;\n",
    "lind = \"PM\";\n",
    "te, exc_H, exc_pop = load_exact_plot(exact_data_loc, nqbit, lind);\n",
    "Hres = []\n",
    "for rc in [1e-3, 1e-4, 1e-5, 1e-6]\n",
    "    ta, vec_H, vec_pop = load_vectorized_plot(vectorized_data_loc, nqbit, lind, rcut=rc);\n",
    "    push!(Hres, vec_H)\n",
    "end"
   ]
  },
  {
   "cell_type": "code",
   "execution_count": null,
   "id": "f054c1fc-7cee-409e-9fc0-67b9fab21ca6",
   "metadata": {},
   "outputs": [],
   "source": [
    "transfer_vectorized_data(vectorized_data_loc, \"data\", nqbit, lind, rcut=1e-5);"
   ]
  },
  {
   "cell_type": "code",
   "execution_count": null,
   "id": "37c2c12e-1140-4dcb-a6b1-2631901e568c",
   "metadata": {},
   "outputs": [],
   "source": [
    "p1 = scatter(te[1:50:end], exc_H[1:50:end], linewidth=3, linestyle=:dash, label=L\"\\mathrm{Exact}\", markersize=7,\n",
    "    xguidefontsize=20, yguidefontsize=20, legendfontsize = 20, \n",
    "    #title=L\"L_i=Z_i,\\ \\mathrm{pool}=\\mathrm{neighbor}\", titlefont=18,\n",
    "    title=L\"L^\\pm_i=(X_i\\pm iY_i)/2,\\ \\mathrm{pool}=\\mathrm{all}\", titlefont=18,\n",
    "    tickfont = font(24, \"Computer Modern\"), legendposition=:bottomright, right_margin=2.6Plots.mm) \n",
    "    #annotations = (0, -1.6, Plots.text(L\"L^\\pm_i=\\frac{X_i\\pm iY_i}{2}\", 22, :left)), right_margin=2.6Plots.mm)\n",
    "    #annotations = (0, -1.8, Plots.text(L\"L_i=Z_i\", 22, :left)), right_margin=2.6Plots.mm)\n",
    "plot!(p1, ta, Hres, linewidth=3, linestyle=:dash, label=[L\"r=10^{-3}\" L\"r=10^{-4}\" L\"r=10^{-5}\" L\"r=10^{-6}\"],\n",
    "    xlabel=L\"t\", ylabel=L\"\\langle H(t) \\rangle\")"
   ]
  },
  {
   "cell_type": "code",
   "execution_count": null,
   "id": "eb7cd433-266d-4680-825d-0aff460d7370",
   "metadata": {},
   "outputs": [],
   "source": [
    "prob = \"ASC\"\n",
    "restricted = \"unrestricted\"\n",
    "pool = \"neighbor\"\n",
    "group_name_h = @sprintf \"%d_qubit_lind_%s_vectorized_%s_err_H\" nqbit lind restricted"
   ]
  },
  {
   "cell_type": "code",
   "execution_count": null,
   "id": "3a3bacab-0258-4523-af02-20a482d6d427",
   "metadata": {},
   "outputs": [],
   "source": [
    "file_type = \".pdf\"\n",
    "savefig(p1, \"./figs/open/\" * pool * \"/\" * prob * \"_\" * group_name_h * file_type)"
   ]
  },
  {
   "cell_type": "markdown",
   "id": "19628697-caa2-489d-ac3c-4e6578f88ddf",
   "metadata": {},
   "source": [
    "### Vectorization: trace distance vs error tolerance"
   ]
  },
  {
   "cell_type": "code",
   "execution_count": null,
   "id": "e73e3983-54bd-443f-b378-424897b5e7d8",
   "metadata": {},
   "outputs": [],
   "source": [
    "(te, ϕ) = load_exact_state(exact_data_loc, nqbit, lind);"
   ]
  },
  {
   "cell_type": "code",
   "execution_count": null,
   "id": "e97c3b0e-e95f-4f75-b61d-29d8fdb09d18",
   "metadata": {},
   "outputs": [],
   "source": [
    "(tv, ρ) = load_vectorized_state(vectorized_data_loc, nqbit, lind, rcut=1e-3);"
   ]
  },
  {
   "cell_type": "code",
   "execution_count": null,
   "id": "25315ca9-d282-40d7-ab75-cfc269b67b04",
   "metadata": {},
   "outputs": [],
   "source": [
    "dres = []\n",
    "for rc in [1e-3, 1e-4, 1e-5, 1e-6]\n",
    "    (tv, ρ) = load_vectorized_state(vectorized_data_loc, nqbit, lind, rcut=rc)\n",
    "    push!(dres, trace_dist(ρ[end], ϕ[end]))\n",
    "end"
   ]
  },
  {
   "cell_type": "code",
   "execution_count": null,
   "id": "7e1a4921-ef27-470b-9b71-eb80715139d7",
   "metadata": {},
   "outputs": [],
   "source": [
    "scatter([1e-3, 1e-4, 1e-5, 1e-6], dres, xscale=:log10, yscale=:log10, label=\"\", markersize=7,\n",
    "    xguidefontsize=20, yguidefontsize=20, legendfontsize = 20,\n",
    "    tickfont = font(24, \"Computer Modern\"), grid=false, xlabel=L\"r\", topmargin=2Plots.mm)"
   ]
  }
 ],
 "metadata": {
  "kernelspec": {
   "display_name": "Julia 1.10.0",
   "language": "julia",
   "name": "julia-1.10"
  },
  "language_info": {
   "file_extension": ".jl",
   "mimetype": "application/julia",
   "name": "julia",
   "version": "1.10.0"
  }
 },
 "nbformat": 4,
 "nbformat_minor": 5
}
